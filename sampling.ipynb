{
 "cells": [
  {
   "cell_type": "markdown",
   "id": "193a35bf-b068-470d-8ff4-01994cc6c36e",
   "metadata": {},
   "source": [
    "**Balancing a Dataset with Downsampling**\n",
    "\n",
    "    Imagine we have a datset for a binary classification task where the class labels are imblanced,and we wnat to downsample the majority class to balance the dataset."
   ]
  },
  {
   "cell_type": "code",
   "execution_count": 33,
   "id": "cc4e69de-15b6-4cf7-8f1f-7b3c7cb4d2d1",
   "metadata": {},
   "outputs": [],
   "source": [
    "import pandas as pd\n",
    "from sklearn.utils import resample\n",
    "df=pd.DataFrame({\n",
    "    'Age':[22,25,27,28,30,35,40,45,50,55,60,65,70],\n",
    "    'Income':[2000,2500,2700,3200,3500,3800,4000,4200,4300,4500,5000,5500,6000],\n",
    "    'Class':['High','Low','Low','High','High','Low','High','High','Low','Low','High','High','Low']\n",
    "})"
   ]
  },
  {
   "cell_type": "markdown",
   "id": "8c31650e-5d9a-4159-987a-6474131263ee",
   "metadata": {},
   "source": [
    "High class has 7 instances\n",
    "\n",
    "\n",
    "Low class has 6 instances"
   ]
  },
  {
   "cell_type": "code",
   "execution_count": 59,
   "id": "878cd8cb-07ca-464b-b574-cfd48d76c9c7",
   "metadata": {},
   "outputs": [],
   "source": [
    "#Separate majotrity and minority classes\n",
    "df_high=df[df['Class']=='High']\n",
    "df_low=df[df['Class']=='Low']\n"
   ]
  },
  {
   "cell_type": "code",
   "execution_count": 57,
   "id": "59338910-7eb0-4aba-97c2-f7375a81adb7",
   "metadata": {},
   "outputs": [],
   "source": [
    "#Downsample majority class\n",
    "df_high_downsampled=resample(df_high,replace=False,n_samples=len(df_low),random_state=42)"
   ]
  },
  {
   "cell_type": "code",
   "execution_count": 39,
   "id": "46b22697-0567-4cfb-a761-33aaaf538df2",
   "metadata": {},
   "outputs": [],
   "source": [
    "#Combine downsample majority with minority class\n",
    "df_balanced =pd.concat([df_high_downsampled,df_low])"
   ]
  },
  {
   "cell_type": "code",
   "execution_count": 41,
   "id": "2041d467-43f7-4d04-adac-43a03be05bda",
   "metadata": {},
   "outputs": [
    {
     "name": "stdout",
     "output_type": "stream",
     "text": [
      "Class\n",
      "High    6\n",
      "Low     6\n",
      "Name: count, dtype: int64\n"
     ]
    }
   ],
   "source": [
    "print(df_balanced['Class'].value_counts())"
   ]
  },
  {
   "cell_type": "markdown",
   "id": "43612538-f3d9-4d3b-8524-141d26b0e387",
   "metadata": {},
   "source": [
    "**Upsampling the Minority Class**"
   ]
  },
  {
   "cell_type": "markdown",
   "id": "a1a6f966-6456-4c14-a0d4-5fd48933e06b",
   "metadata": {},
   "source": [
    "Let's use a dataset eith a binary classification task where the Minority class has fewer instances than the Minority class,and we'll perform upsampling on the minority class"
   ]
  },
  {
   "cell_type": "code",
   "execution_count": 64,
   "id": "eb02219f-a5f8-4a75-99e9-c143d9d6b527",
   "metadata": {},
   "outputs": [],
   "source": [
    "df_high_upsampled=resample(df_low,replace=True,n_samples=len(df_high),random_state=42)"
   ]
  },
  {
   "cell_type": "code",
   "execution_count": 71,
   "id": "9aa38113-288a-47d9-bcb7-883e987cc1b0",
   "metadata": {},
   "outputs": [],
   "source": [
    "import pandas as pd\n",
    "from sklearn.utils import resample\n",
    "df=pd.DataFrame({\n",
    "    'Age':[22,25,27,28,30,35,40,45,50,55,60,65,70],\n",
    "    'Income':[2000,2500,2700,3200,3500,3800,4000,4200,4300,4500,5000,5500,6000],\n",
    "    'Class':['Minority','Majority','Majority','Majority','Majority','Minority','Minority','Minority','Majority','Majority','Majority','Majority','Majority']\n",
    "})"
   ]
  },
  {
   "cell_type": "markdown",
   "id": "1b809a78-ab09-40d7-9e56-6b0974dcac74",
   "metadata": {},
   "source": [
    "Majority class has 9 instances\n",
    "\n",
    "\n",
    "Minority class has 4 instances"
   ]
  },
  {
   "cell_type": "code",
   "execution_count": 79,
   "id": "9b7b5a11-c0ce-4789-b5a8-64338c25f4bd",
   "metadata": {},
   "outputs": [],
   "source": [
    "df_majority =df[df['Class']=='Majority']\n",
    "df_minority=df[df['Class']=='Minority']"
   ]
  },
  {
   "cell_type": "code",
   "execution_count": 89,
   "id": "57b34b29-ae83-4d5e-81c3-628717409b6d",
   "metadata": {},
   "outputs": [],
   "source": [
    "df_majority_upsampled=resample(df_minority,replace=True,n_samples=len(df_majority),random_state=42)"
   ]
  },
  {
   "cell_type": "code",
   "execution_count": 93,
   "id": "375eb956-a3f1-44ce-a148-60bd296362aa",
   "metadata": {},
   "outputs": [],
   "source": [
    "df_balanced =pd.concat([df_majority_upsampled,df_majority])"
   ]
  },
  {
   "cell_type": "code",
   "execution_count": 95,
   "id": "74f79ec0-8265-4447-b92e-d6b4e356f7ab",
   "metadata": {},
   "outputs": [
    {
     "name": "stdout",
     "output_type": "stream",
     "text": [
      "Class\n",
      "Minority    9\n",
      "Majority    9\n",
      "Name: count, dtype: int64\n"
     ]
    }
   ],
   "source": [
    "print(df_balanced['Class'].value_counts())"
   ]
  },
  {
   "cell_type": "code",
   "execution_count": null,
   "id": "a6007e1b-5bf1-46cc-8c94-0b4156b680d1",
   "metadata": {},
   "outputs": [],
   "source": [
    "SMOTE(synthetic Minority Over-sampling Technique) to balance the dataset"
   ]
  },
  {
   "cell_type": "code",
   "execution_count": 1,
   "id": "2917be5a-1a05-4e79-be10-79ad656e9636",
   "metadata": {},
   "outputs": [
    {
     "name": "stdout",
     "output_type": "stream",
     "text": [
      "Requirement already satisfied: imbalanced-learn in c:\\users\\proxy1\\anaconda3\\lib\\site-packages (0.13.0)\n",
      "Requirement already satisfied: numpy<3,>=1.24.3 in c:\\users\\proxy1\\anaconda3\\lib\\site-packages (from imbalanced-learn) (1.26.4)\n",
      "Requirement already satisfied: scipy<2,>=1.10.1 in c:\\users\\proxy1\\anaconda3\\lib\\site-packages (from imbalanced-learn) (1.13.1)\n",
      "Requirement already satisfied: scikit-learn<2,>=1.3.2 in c:\\users\\proxy1\\anaconda3\\lib\\site-packages (from imbalanced-learn) (1.5.1)\n",
      "Requirement already satisfied: sklearn-compat<1,>=0.1 in c:\\users\\proxy1\\anaconda3\\lib\\site-packages (from imbalanced-learn) (0.1.3)\n",
      "Requirement already satisfied: joblib<2,>=1.1.1 in c:\\users\\proxy1\\anaconda3\\lib\\site-packages (from imbalanced-learn) (1.4.2)\n",
      "Requirement already satisfied: threadpoolctl<4,>=2.0.0 in c:\\users\\proxy1\\anaconda3\\lib\\site-packages (from imbalanced-learn) (3.5.0)\n",
      "Note: you may need to restart the kernel to use updated packages.\n"
     ]
    }
   ],
   "source": [
    "pip install imbalanced-learn"
   ]
  },
  {
   "cell_type": "markdown",
   "id": "2269d9c0-737d-4d2a-87b1-a0d85cc3bc0e",
   "metadata": {},
   "source": [
    "1.SMOTE to generate synthetic samples instead of duplicating existing ones\n",
    "\n",
    "2.Conver categorical class labels into numeric form for SMOTE to work\n",
    "\n",
    "3.Apply SMOTE to balance the dataset\n",
    "\n",
    "4.Convert back to original categorical labels\n",
    "\n",
    "5.Combine the resampled data into a final balanced dataset"
   ]
  },
  {
   "cell_type": "code",
   "execution_count": 3,
   "id": "fa7d1b65-6dc8-47db-82e5-226e81ef1dfd",
   "metadata": {},
   "outputs": [],
   "source": [
    "import pandas as pd\n",
    "from imblearn.over_sampling import SMOTE\n",
    "df=pd.DataFrame({\n",
    "    'Age':[22,25,27,28,30,35,40,45,50,55,60,65,70],\n",
    "    'Income':[2000,2500,2700,3200,3500,3800,4000,4200,4300,4500,5000,5500,6000],\n",
    "    'Class':['Minority','Majority','Majority','Majority','Majority',\n",
    "             'Minority','Minority','Minority','Majority','Majority',\n",
    "             'Majority','Majority','Majority']\n",
    "})"
   ]
  },
  {
   "cell_type": "code",
   "execution_count": 4,
   "id": "a55cdf14-888d-49e2-8f49-e6314c194d8c",
   "metadata": {},
   "outputs": [
    {
     "name": "stdout",
     "output_type": "stream",
     "text": [
      "Class\n",
      "Minority    9\n",
      "Majority    9\n",
      "Name: count, dtype: int64\n",
      "    Age  Income     Class\n",
      "0    22    2000  Minority\n",
      "1    25    2500  Majority\n",
      "2    27    2700  Majority\n",
      "3    28    3200  Majority\n",
      "4    30    3500  Majority\n",
      "5    35    3800  Minority\n",
      "6    40    4000  Minority\n",
      "7    45    4200  Minority\n",
      "8    50    4300  Majority\n",
      "9    55    4500  Majority\n",
      "10   60    5000  Majority\n",
      "11   65    5500  Majority\n",
      "12   70    6000  Majority\n",
      "13   40    4031  Minority\n",
      "14   35    3831  Minority\n",
      "15   44    4176  Minority\n",
      "16   35    3826  Minority\n",
      "17   41    4040  Minority\n"
     ]
    }
   ],
   "source": [
    "df['Class'] = df['Class'].map({'Majority': 0, 'Minority': 1})\n",
    "X = df[['Age', 'Income']]\n",
    "Y = df['Class']\n",
    "\n",
    "# Applying SMOTE\n",
    "smote = SMOTE(sampling_strategy='auto', random_state=42, k_neighbors=3)\n",
    "X_resampled, Y_resampled = smote.fit_resample(X, Y)\n",
    "\n",
    "# Remapping the class labels back to 'Majority' and 'Minority'\n",
    "Y_resampled = Y_resampled.map({0: 'Majority', 1: 'Minority'})\n",
    "\n",
    "# Creating the balanced DataFrame\n",
    "df_balanced = pd.concat([pd.DataFrame(X_resampled, columns=['Age', 'Income']), pd.DataFrame(Y_resampled, columns=['Class'])], axis=1)\n",
    "\n",
    "# Outputting the class distribution and the balanced DataFrame\n",
    "print(df_balanced['Class'].value_counts())\n",
    "print(df_balanced)\n"
   ]
  },
  {
   "cell_type": "code",
   "execution_count": null,
   "id": "13270ea9-56e5-47bf-8ed9-8d7f02f9b50b",
   "metadata": {},
   "outputs": [],
   "source": []
  }
 ],
 "metadata": {
  "kernelspec": {
   "display_name": "Python [conda env:base] *",
   "language": "python",
   "name": "conda-base-py"
  },
  "language_info": {
   "codemirror_mode": {
    "name": "ipython",
    "version": 3
   },
   "file_extension": ".py",
   "mimetype": "text/x-python",
   "name": "python",
   "nbconvert_exporter": "python",
   "pygments_lexer": "ipython3",
   "version": "3.12.7"
  }
 },
 "nbformat": 4,
 "nbformat_minor": 5
}
