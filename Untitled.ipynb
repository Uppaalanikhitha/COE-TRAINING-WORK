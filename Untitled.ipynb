{
 "cells": [
  {
   "cell_type": "code",
   "execution_count": 1,
   "id": "1df38abf-1058-4753-bf64-bc1c68a6315b",
   "metadata": {},
   "outputs": [
    {
     "name": "stdout",
     "output_type": "stream",
     "text": [
      "this is the user defined function\n",
      "without parameters and with return value\n"
     ]
    },
    {
     "data": {
      "text/plain": [
       "'Hello'"
      ]
     },
     "execution_count": 1,
     "metadata": {},
     "output_type": "execute_result"
    }
   ],
   "source": [
    "def add():\n",
    "    print(\"this is the user defined function\")\n",
    "    print(\"without parameters and with return value\")\n",
    "    return \"Hello\"\n",
    "add()"
   ]
  },
  {
   "cell_type": "code",
   "execution_count": 3,
   "id": "1dea0147-8b0f-4209-b36f-84caa8dc43e5",
   "metadata": {},
   "outputs": [
    {
     "name": "stdin",
     "output_type": "stream",
     "text": [
      "Enter a password Nikki@12345\n"
     ]
    },
    {
     "name": "stdout",
     "output_type": "stream",
     "text": [
      "password is vaild\n"
     ]
    }
   ],
   "source": [
    "def check_pass_strength(password):\n",
    "    has_uppercase = False\n",
    "    has_lowercase = False\n",
    "    has_digit = False\n",
    "    has_special = False\n",
    "    special_characters = \"!@#$%^&*()-_=+[]{}|;:'\\\",.<>?/\"\n",
    "    if len(password)<10 or len(password)>15:\n",
    "        return \"password should contain at least 10 characters and max of 15 characters\"\n",
    "    if ' ' in password:\n",
    "        return \"weak password cannot accessed\"\n",
    "    if password.endswith('.') or password.endswith('@'):\n",
    "        return \"weak password cannot accessed\"\n",
    "    for char in password:\n",
    "        if char.isupper():\n",
    "            has_uppercase=True\n",
    "        elif char.islower():\n",
    "            has_lowercase=True\n",
    "        elif char.isdigit():\n",
    "            has_digit=True\n",
    "        elif char in special_characters:\n",
    "            has_special = True\n",
    "    if has_uppercase and has_lowercase and has_digit and has_special:\n",
    "        return \"password is vaild\"\n",
    "    else:\n",
    "        return \"password should have atleast one uppercase,lowercase letters ,digits and special character\"\n",
    "password=(input(\"Enter a password\"))\n",
    "result = check_pass_strength(password)\n",
    "print(result)"
   ]
  },
  {
   "cell_type": "code",
   "execution_count": 5,
   "id": "0fd06162-f96a-4727-aff6-af6953f17522",
   "metadata": {},
   "outputs": [
    {
     "name": "stdout",
     "output_type": "stream",
     "text": [
      "67\n"
     ]
    }
   ],
   "source": [
    "a=[66,89,700,67,44,]\n",
    "b=[56,89,67]\n",
    "a.extend(b)\n",
    "print(a[7])"
   ]
  },
  {
   "cell_type": "code",
   "execution_count": null,
   "id": "30b13e3f-96ff-4aa7-bf5c-00b951a22e1f",
   "metadata": {},
   "outputs": [],
   "source": []
  }
 ],
 "metadata": {
  "kernelspec": {
   "display_name": "Python [conda env:base] *",
   "language": "python",
   "name": "conda-base-py"
  },
  "language_info": {
   "codemirror_mode": {
    "name": "ipython",
    "version": 3
   },
   "file_extension": ".py",
   "mimetype": "text/x-python",
   "name": "python",
   "nbconvert_exporter": "python",
   "pygments_lexer": "ipython3",
   "version": "3.12.7"
  }
 },
 "nbformat": 4,
 "nbformat_minor": 5
}
