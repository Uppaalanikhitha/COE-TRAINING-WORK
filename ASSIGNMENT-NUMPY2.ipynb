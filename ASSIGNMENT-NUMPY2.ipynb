{
 "cells": [
  {
   "cell_type": "code",
   "execution_count": null,
   "id": "ab4c022e-3334-4ec7-8d31-4e06e1ecbbeb",
   "metadata": {},
   "outputs": [],
   "source": [
    "Create a 1D array of numbers from 10 to 50.\n",
    "Create a 3x3 array of random numbers between 0 and 1."
   ]
  },
  {
   "cell_type": "code",
   "execution_count": 7,
   "id": "eeeb70c5-b128-4e0c-bc18-c217789da7a8",
   "metadata": {},
   "outputs": [
    {
     "name": "stdout",
     "output_type": "stream",
     "text": [
      "[10 11 12 13 14 15 16 17 18 19 20 21 22 23 24 25 26 27 28 29 30 31 32 33\n",
      " 34 35 36 37 38 39 40 41 42 43 44 45 46 47 48 49 50]\n",
      "[[0.98822212 0.29753839 0.85571477]\n",
      " [0.73197747 0.26206291 0.74452884]\n",
      " [0.14684813 0.12708706 0.49971727]]\n"
     ]
    }
   ],
   "source": [
    "import numpy as np\n",
    "a=np.arange(10,51)\n",
    "print(a)\n",
    "\n",
    "b=np.random.rand(3,3)\n",
    "print(b)"
   ]
  },
  {
   "cell_type": "code",
   "execution_count": null,
   "id": "0ef4ce44-dbaf-44e2-bfa5-9e0e6365c985",
   "metadata": {},
   "outputs": [],
   "source": [
    "Find the shape, size, and data type of the array you created in the previous task."
   ]
  },
  {
   "cell_type": "code",
   "execution_count": 11,
   "id": "aee8cef9-411c-4e16-ad7d-4eba5762556d",
   "metadata": {},
   "outputs": [
    {
     "name": "stdout",
     "output_type": "stream",
     "text": [
      "(3, 3)\n",
      "9\n",
      "float64\n"
     ]
    }
   ],
   "source": [
    "print(b.shape)\n",
    "print(b.size)\n",
    "print(b.dtype)"
   ]
  },
  {
   "cell_type": "code",
   "execution_count": null,
   "id": "0589a6fc-dfe2-44a7-a49f-79d272c48bf3",
   "metadata": {},
   "outputs": [],
   "source": [
    "Add 5 to every element of a 1D array\n",
    "Multiply two 2D arrays element-wise."
   ]
  },
  {
   "cell_type": "code",
   "execution_count": 23,
   "id": "41cc367c-8d65-4983-927d-90238977f03d",
   "metadata": {},
   "outputs": [
    {
     "name": "stdout",
     "output_type": "stream",
     "text": [
      "[15 16 17 18 19 20 21 22 23 24 25 26 27 28 29 30 31 32 33 34 35 36 37 38\n",
      " 39 40 41 42 43 44 45 46 47 48 49 50 51 52 53 54 55]\n",
      "[[ 3  4  3]\n",
      " [24 20 30]\n",
      " [ 0 63 64]]\n"
     ]
    }
   ],
   "source": [
    "print(a+5)\n",
    "m1 = np.array([[1, 2, 3], [4, 5, 6], [6, 7, 8]])\n",
    "m2 = np.array([[3, 2, 1], [6, 4, 5], [0, 9, 8]])\n",
    "print(m1*m2)\n"
   ]
  },
  {
   "cell_type": "code",
   "execution_count": null,
   "id": "77b1323f-3ed4-44fb-9e1a-a0e7b896fefa",
   "metadata": {},
   "outputs": [],
   "source": [
    "◦ Create a 5x5 array of integers from 1 to 25. Extract:\n",
    "▪ The first row.\n",
    "▪ The last column.\n",
    "▪ A subarray of the first three rows and first two columns."
   ]
  },
  {
   "cell_type": "code",
   "execution_count": 52,
   "id": "610feaf1-a335-46fa-8320-40554fd7bbe0",
   "metadata": {},
   "outputs": [
    {
     "name": "stdout",
     "output_type": "stream",
     "text": [
      "[[ 1  2  3  4  5]\n",
      " [ 6  7  8  9 10]\n",
      " [11 12 13 14 15]\n",
      " [16 17 18 19 20]\n",
      " [21 22 23 24 25]]\n",
      "[1 2 3 4 5]\n",
      "[ 5 10 15 20 25]\n",
      "[[ 1  2]\n",
      " [ 6  7]\n",
      " [11 12]]\n"
     ]
    }
   ],
   "source": [
    "m3=np.arange(1,26).reshape(5,5)\n",
    "print(m3)\n",
    "print(m3[0])\n",
    "print(m3[:,-1])\n",
    "sub_arr=(m3[:3,:2])\n",
    "print(sub_arr)"
   ]
  },
  {
   "cell_type": "code",
   "execution_count": null,
   "id": "d345720c-9633-4347-bff9-616f9585f289",
   "metadata": {},
   "outputs": [],
   "source": [
    "◦ Create a 10-element array of random integers between 1 and 100. Find:\n",
    "▪ The maximum value.\n",
    "▪ The minimum value.\n",
    "▪ The mean and standard deviation."
   ]
  },
  {
   "cell_type": "code",
   "execution_count": 66,
   "id": "c9c29391-e582-4529-a3f2-39be21d1211a",
   "metadata": {},
   "outputs": [
    {
     "name": "stdout",
     "output_type": "stream",
     "text": [
      "[  1   2   3   4   5   6   7   8   9  10  11  12  13  14  15  16  17  18\n",
      "  19  20  21  22  23  24  25  26  27  28  29  30  31  32  33  34  35  36\n",
      "  37  38  39  40  41  42  43  44  45  46  47  48  49  50  51  52  53  54\n",
      "  55  56  57  58  59  60  61  62  63  64  65  66  67  68  69  70  71  72\n",
      "  73  74  75  76  77  78  79  80  81  82  83  84  85  86  87  88  89  90\n",
      "  91  92  93  94  95  96  97  98  99 100]\n",
      "100\n",
      "1\n",
      "50.5\n",
      "28.86607004772212\n"
     ]
    }
   ],
   "source": [
    "a=np.arange(1,101)\n",
    "print(a)\n",
    "print(a.max())\n",
    "print(a.min())\n",
    "print(a.mean())\n",
    "print(a.std())"
   ]
  },
  {
   "cell_type": "code",
   "execution_count": null,
   "id": "c611006b-0c5d-40d8-a0c1-a97f95806d42",
   "metadata": {},
   "outputs": [],
   "source": [
    "Convert a 1D array of numbers from 1 to 12 into a 3x4 matrix."
   ]
  },
  {
   "cell_type": "code",
   "execution_count": 68,
   "id": "d54f1a78-b674-4fdc-9107-897197bee8ce",
   "metadata": {},
   "outputs": [
    {
     "name": "stdout",
     "output_type": "stream",
     "text": [
      "[[ 1  2  3  4]\n",
      " [ 5  6  7  8]\n",
      " [ 9 10 11 12]]\n"
     ]
    }
   ],
   "source": [
    "a=np.arange(1,13).reshape(3,4)\n",
    "print(a)"
   ]
  },
  {
   "cell_type": "code",
   "execution_count": null,
   "id": "857029aa-9ba2-4177-8735-679a85a39f5b",
   "metadata": {},
   "outputs": [],
   "source": [
    "Create a 3x3 matrix of ones. Add a 1D array [1, 2, 3] to each row."
   ]
  },
  {
   "cell_type": "code",
   "execution_count": 74,
   "id": "b7560b19-b1f7-4e1b-bb67-e41266485207",
   "metadata": {},
   "outputs": [
    {
     "name": "stdout",
     "output_type": "stream",
     "text": [
      "[[1. 1. 1.]\n",
      " [1. 1. 1.]\n",
      " [1. 1. 1.]]\n",
      "[[2. 3. 4.]\n",
      " [2. 3. 4.]\n",
      " [2. 3. 4.]]\n"
     ]
    }
   ],
   "source": [
    "m1=np.ones((3,3))\n",
    "print(m1)\n",
    "m2=np.array([1,2,3])\n",
    "m3=m1+m2\n",
    "print(m3)"
   ]
  },
  {
   "cell_type": "code",
   "execution_count": null,
   "id": "3a03c2e1-2b65-41f0-8c1a-6a165d3b372a",
   "metadata": {},
   "outputs": [],
   "source": [
    "Create a 1D array of random integers between 1 and 50. Extract all elements that are divisible by 5."
   ]
  },
  {
   "cell_type": "code",
   "execution_count": 88,
   "id": "7c603732-d895-4e75-a320-da48ce5df2e6",
   "metadata": {},
   "outputs": [
    {
     "name": "stdout",
     "output_type": "stream",
     "text": [
      "[ 1  2  3  4  5  6  7  8  9 10 11 12 13 14 15 16 17 18 19 20 21 22 23 24\n",
      " 25 26 27 28 29 30 31 32 33 34 35 36 37 38 39 40 41 42 43 44 45 46 47 48\n",
      " 49 50]\n",
      "[ 5 10 15 20 25 30 35 40 45 50]\n"
     ]
    }
   ],
   "source": [
    "m1=np.arange(1,51)\n",
    "print(m3)\n",
    "m2=m1[m1%5==0]\n",
    "print(m2)"
   ]
  },
  {
   "cell_type": "code",
   "execution_count": null,
   "id": "9d39b015-6ea8-485d-99fc-d0e13eeaefb1",
   "metadata": {},
   "outputs": [],
   "source": [
    "Create two 2x2 matrices and perform matrix multiplication."
   ]
  },
  {
   "cell_type": "code",
   "execution_count": 90,
   "id": "d50f1c89-ddd3-444d-99b7-86fe38112ab5",
   "metadata": {},
   "outputs": [
    {
     "name": "stdout",
     "output_type": "stream",
     "text": [
      "[[ 15  37  35]\n",
      " [ 42  82  77]\n",
      " [ 60 112 105]]\n"
     ]
    }
   ],
   "source": [
    "m1 = np.array([[1, 2, 3], [4, 5, 6], [6, 7, 8]])\n",
    "m2 = np.array([[3, 2, 1], [6, 4, 5], [0, 9, 8]])\n",
    "m3=np.dot(m1,m2)\n",
    "print(m3)"
   ]
  },
  {
   "cell_type": "code",
   "execution_count": null,
   "id": "aa9be704-f80f-42f6-8f29-d204338ede6a",
   "metadata": {},
   "outputs": [],
   "source": [
    "Given a 4x4 array, use fancy indexing to extract the diagonal elements."
   ]
  },
  {
   "cell_type": "code",
   "execution_count": null,
   "id": "98cc05cc-a27d-4548-83b8-7915d60982e9",
   "metadata": {},
   "outputs": [],
   "source": [
    "m1 = np.array([[1, 2, 3], [4, 5, 6], [6, 7, 8],[0,1,2]])\n",
    "m=m1[np.arange(4),np.arange(4)]"
   ]
  }
 ],
 "metadata": {
  "kernelspec": {
   "display_name": "Python [conda env:base] *",
   "language": "python",
   "name": "conda-base-py"
  },
  "language_info": {
   "codemirror_mode": {
    "name": "ipython",
    "version": 3
   },
   "file_extension": ".py",
   "mimetype": "text/x-python",
   "name": "python",
   "nbconvert_exporter": "python",
   "pygments_lexer": "ipython3",
   "version": "3.12.7"
  }
 },
 "nbformat": 4,
 "nbformat_minor": 5
}
