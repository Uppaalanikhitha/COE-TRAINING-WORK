{
 "cells": [
  {
   "cell_type": "code",
   "execution_count": 184,
   "id": "279b3203-7b3d-466a-974e-497bf018828a",
   "metadata": {},
   "outputs": [],
   "source": [
    "import pandas as pd\n",
    "import numpy as np\n",
    "from sklearn.model_selection import train_test_split\n",
    "from sklearn.preprocessing import LabelEncoder, StandardScaler\n",
    "from sklearn.ensemble import BaggingClassifier, AdaBoostClassifier, GradientBoostingClassifier\n",
    "from xgboost import XGBClassifier\n",
    "from sklearn.metrics import accuracy_score, confusion_matrix, classification_report, roc_auc_score\n"
   ]
  },
  {
   "cell_type": "code",
   "execution_count": 186,
   "id": "0a3745d3-9dd9-4e9a-9b43-f44afd006bdd",
   "metadata": {},
   "outputs": [],
   "source": [
    "df=pd.read_csv(r\"C:\\Users\\CVR\\Desktop\\22B81A1292\\27-03-25\\WA_Fn-UseC_-Telco-Customer-Churn.csv\")"
   ]
  },
  {
   "cell_type": "code",
   "execution_count": 188,
   "id": "1490d9b1-0e91-4f89-b79a-0d810ba2982f",
   "metadata": {},
   "outputs": [],
   "source": [
    "# Step 1: Handle missing values (Convert 'TotalCharges' to numeric and fill missing)\n",
    "df[\"TotalCharges\"] = pd.to_numeric(df[\"TotalCharges\"], errors='coerce')\n",
    "df[\"TotalCharges\"] = df[\"TotalCharges\"].fillna(df[\"TotalCharges\"].median())\n",
    "\n"
   ]
  },
  {
   "cell_type": "code",
   "execution_count": 190,
   "id": "e2b8585f-9348-4879-aca0-8226ee24552c",
   "metadata": {},
   "outputs": [
    {
     "name": "stdout",
     "output_type": "stream",
     "text": [
      "   customerID  gender  SeniorCitizen  Partner  Dependents  tenure  \\\n",
      "0  7590-VHVEG       0              0        1           0       1   \n",
      "1  5575-GNVDE       1              0        0           0      34   \n",
      "2  3668-QPYBK       1              0        0           0       2   \n",
      "3  7795-CFOCW       1              0        0           0      45   \n",
      "4  9237-HQITU       0              0        0           0       2   \n",
      "\n",
      "   PhoneService  MultipleLines  InternetService  OnlineSecurity  ...  \\\n",
      "0             0              1                0               0  ...   \n",
      "1             1              0                0               2  ...   \n",
      "2             1              0                0               2  ...   \n",
      "3             0              1                0               2  ...   \n",
      "4             1              0                1               0  ...   \n",
      "\n",
      "   DeviceProtection  TechSupport  StreamingTV  StreamingMovies  Contract  \\\n",
      "0                 0            0            0                0         0   \n",
      "1                 2            0            0                0         1   \n",
      "2                 0            0            0                0         0   \n",
      "3                 2            2            0                0         1   \n",
      "4                 0            0            0                0         0   \n",
      "\n",
      "   PaperlessBilling  PaymentMethod  MonthlyCharges  TotalCharges  Churn  \n",
      "0                 1              2           29.85         29.85      0  \n",
      "1                 0              3           56.95       1889.50      0  \n",
      "2                 1              3           53.85        108.15      1  \n",
      "3                 0              0           42.30       1840.75      0  \n",
      "4                 1              2           70.70        151.65      1  \n",
      "\n",
      "[5 rows x 21 columns]\n"
     ]
    }
   ],
   "source": [
    "from sklearn.preprocessing import LabelEncoder\n",
    "\n",
    "# Get all categorical columns\n",
    "categorical_cols = df.select_dtypes(include=['object']).columns.tolist()\n",
    "\n",
    "# Remove 'customerID' and 'Churn' if they exist\n",
    "categorical_cols = [col for col in categorical_cols if col not in ['customerID', 'Churn']]\n",
    "\n",
    "# Apply Label Encoding\n",
    "label_encoders = {}  \n",
    "for col in categorical_cols:\n",
    "    le = LabelEncoder()\n",
    "    df[col] = le.fit_transform(df[col])\n",
    "    label_encoders[col] = le  \n",
    "\n",
    "# Encode 'Churn' separately if it exists\n",
    "if 'Churn' in df.columns:\n",
    "    df['Churn'] = df['Churn'].map({'Yes': 1, 'No': 0})\n",
    "\n",
    "# Verify encoding\n",
    "print(df.head())\n",
    "\n"
   ]
  },
  {
   "cell_type": "code",
   "execution_count": 192,
   "id": "5753f869-4a59-4378-b4f8-9f08421802d6",
   "metadata": {},
   "outputs": [],
   "source": [
    "# Step 3: Standardize numerical features\n",
    "num_cols = [\"tenure\", \"MonthlyCharges\", \"TotalCharges\"]\n",
    "scaler = StandardScaler()\n",
    "df[num_cols] = scaler.fit_transform(df[num_cols])"
   ]
  },
  {
   "cell_type": "code",
   "execution_count": 194,
   "id": "178ed51d-469b-462f-a46b-74fd9695db06",
   "metadata": {},
   "outputs": [
    {
     "data": {
      "text/plain": [
       "((5634, 19), (1409, 19), (5634,), (1409,))"
      ]
     },
     "execution_count": 194,
     "metadata": {},
     "output_type": "execute_result"
    }
   ],
   "source": [
    "# Display dataset shape after preprocessing\n",
    "X_train.shape, X_test.shape, y_train.shape, y_test.shape"
   ]
  },
  {
   "cell_type": "code",
   "execution_count": 196,
   "id": "5203de36-4480-49f6-9a72-1fc53cb30df0",
   "metadata": {},
   "outputs": [
    {
     "data": {
      "text/plain": [
       "0.7984386089425124"
      ]
     },
     "execution_count": 196,
     "metadata": {},
     "output_type": "execute_result"
    }
   ],
   "source": [
    "from sklearn.metrics import confusion_matrix\n",
    "# Retry XGBoost with fewer estimators for faster execution\n",
    "xgb = XGBClassifier(n_estimators=50, eval_metric='logloss', random_state=42)\n",
    "\n",
    "xgb.fit(X_train, y_train)\n",
    "\n",
    "# Recalculate predictions and evaluation metrics for XGBoost\n",
    "xgb_pred = xgb.predict(X_test)\n",
    "xgb_acc = accuracy_score(y_test, xgb_pred)\n",
    "xgb_cm = confusion_matrix(y_test, xgb_pred)\n",
    "# Display updated accuracy and ROC-AUC score\n",
    "xgb_acc\n"
   ]
  },
  {
   "cell_type": "code",
   "execution_count": 198,
   "id": "033744bd-a45f-453c-a5af-fdf35667bb41",
   "metadata": {},
   "outputs": [
    {
     "data": {
      "text/plain": [
       "0.7906316536550745"
      ]
     },
     "execution_count": 198,
     "metadata": {},
     "output_type": "execute_result"
    }
   ],
   "source": [
    "bagging = BaggingClassifier(n_estimators=50, random_state=42)\n",
    "bagging.fit(X_train, y_train)\n",
    "bagging_pred = bagging.predict(X_test)\n",
    "bagging_acc = accuracy_score(y_test, bagging_pred)\n",
    "bagging_cm = confusion_matrix(y_test, bagging_pred)\n",
    "bagging_acc\n"
   ]
  },
  {
   "cell_type": "code",
   "execution_count": 200,
   "id": "f8796130-9e06-46ed-8c58-7a5187c188b4",
   "metadata": {},
   "outputs": [
    {
     "name": "stderr",
     "output_type": "stream",
     "text": [
      "C:\\Users\\CVR\\anaconda3\\Lib\\site-packages\\sklearn\\ensemble\\_weight_boosting.py:527: FutureWarning: The SAMME.R algorithm (the default) is deprecated and will be removed in 1.6. Use the SAMME algorithm to circumvent this warning.\n",
      "  warnings.warn(\n"
     ]
    },
    {
     "data": {
      "text/plain": [
       "0.8055358410220014"
      ]
     },
     "execution_count": 200,
     "metadata": {},
     "output_type": "execute_result"
    }
   ],
   "source": [
    "ada = AdaBoostClassifier(n_estimators=50, random_state=42)\n",
    "ada.fit(X_train, y_train)\n",
    "ada_pred = ada.predict(X_test)\n",
    "ada_acc = accuracy_score(y_test, ada_pred)\n",
    "ada_cm = confusion_matrix(y_test, ada_pred)\n",
    "ada_acc"
   ]
  },
  {
   "cell_type": "code",
   "execution_count": 202,
   "id": "603a2638-d3a6-4dac-bf6f-35fd35c75748",
   "metadata": {},
   "outputs": [
    {
     "data": {
      "text/plain": [
       "0.8055358410220014"
      ]
     },
     "execution_count": 202,
     "metadata": {},
     "output_type": "execute_result"
    }
   ],
   "source": [
    "gb = GradientBoostingClassifier(n_estimators=50, random_state=42)\n",
    "gb.fit(X_train, y_train)\n",
    "gb_pred = gb.predict(X_test)\n",
    "gb_acc = accuracy_score(y_test, gb_pred)\n",
    "gb_cm = confusion_matrix(y_test, gb_pred)\n",
    "gb_acc"
   ]
  },
  {
   "cell_type": "code",
   "execution_count": 204,
   "id": "f347b19d-eca8-4e97-8474-a1f292ffd245",
   "metadata": {},
   "outputs": [
    {
     "name": "stdout",
     "output_type": "stream",
     "text": [
      "Model Accuracy\n",
      "XGBoost Accuracy: 0.7984386089425124\n",
      "Bagging Accuracy: 0.7906316536550745\n",
      "AdaBoost Accuracy: 0.8055358410220014\n",
      "Gradient Boosting Accuracy: 0.8055358410220014\n"
     ]
    }
   ],
   "source": [
    "print(\"Model Accuracy\")\n",
    "print(f\"XGBoost Accuracy: {xgb_acc}\")\n",
    "print(f\"Bagging Accuracy: {bagging_acc}\")\n",
    "print(f\"AdaBoost Accuracy: {ada_acc}\")\n",
    "print(f\"Gradient Boosting Accuracy: {gb_acc}\")"
   ]
  },
  {
   "cell_type": "code",
   "execution_count": 206,
   "id": "1e4294b1-3061-4cf9-96ec-7368dda02d59",
   "metadata": {},
   "outputs": [
    {
     "name": "stdout",
     "output_type": "stream",
     "text": [
      "\n",
      "Confusion Matrices:\n",
      "XGBoost:\n",
      "[[928 108]\n",
      " [176 197]]\n",
      "Bagging:\n",
      "[[937  99]\n",
      " [196 177]]\n",
      "AdaBoost:\n",
      "[[928 108]\n",
      " [166 207]]\n",
      "Gradient Boosting:\n",
      "[[949  87]\n",
      " [187 186]]\n"
     ]
    }
   ],
   "source": [
    "print(\"\\nConfusion Matrices:\")\n",
    "print(f\"XGBoost:\\n{xgb_cm}\")\n",
    "print(f\"Bagging:\\n{bagging_cm}\")\n",
    "print(f\"AdaBoost:\\n{ada_cm}\")\n",
    "print(f\"Gradient Boosting:\\n{gb_cm}\")"
   ]
  },
  {
   "cell_type": "code",
   "execution_count": 208,
   "id": "f8d4904c-ea16-4361-b9d9-232e7eb3434d",
   "metadata": {},
   "outputs": [
    {
     "data": {
      "text/html": [
       "<div>\n",
       "<style scoped>\n",
       "    .dataframe tbody tr th:only-of-type {\n",
       "        vertical-align: middle;\n",
       "    }\n",
       "\n",
       "    .dataframe tbody tr th {\n",
       "        vertical-align: top;\n",
       "    }\n",
       "\n",
       "    .dataframe thead th {\n",
       "        text-align: right;\n",
       "    }\n",
       "</style>\n",
       "<table border=\"1\" class=\"dataframe\">\n",
       "  <thead>\n",
       "    <tr style=\"text-align: right;\">\n",
       "      <th></th>\n",
       "      <th>Model</th>\n",
       "      <th>Accuracy</th>\n",
       "    </tr>\n",
       "  </thead>\n",
       "  <tbody>\n",
       "    <tr>\n",
       "      <th>0</th>\n",
       "      <td>Bagging</td>\n",
       "      <td>0.790632</td>\n",
       "    </tr>\n",
       "    <tr>\n",
       "      <th>1</th>\n",
       "      <td>AdaBoost</td>\n",
       "      <td>0.805536</td>\n",
       "    </tr>\n",
       "    <tr>\n",
       "      <th>2</th>\n",
       "      <td>Gradient Boosting</td>\n",
       "      <td>0.805536</td>\n",
       "    </tr>\n",
       "    <tr>\n",
       "      <th>3</th>\n",
       "      <td>XGBoost</td>\n",
       "      <td>0.798439</td>\n",
       "    </tr>\n",
       "  </tbody>\n",
       "</table>\n",
       "</div>"
      ],
      "text/plain": [
       "               Model  Accuracy\n",
       "0            Bagging  0.790632\n",
       "1           AdaBoost  0.805536\n",
       "2  Gradient Boosting  0.805536\n",
       "3            XGBoost  0.798439"
      ]
     },
     "execution_count": 208,
     "metadata": {},
     "output_type": "execute_result"
    }
   ],
   "source": [
    "import pandas as pd\n",
    "\n",
    "# Create a DataFrame to display accuracy scores for all models\n",
    "results_df = pd.DataFrame({\n",
    "    \"Model\": [\"Bagging\", \"AdaBoost\", \"Gradient Boosting\", \"XGBoost\"],\n",
    "    \"Accuracy\": [bagging_acc, ada_acc, gb_acc, xgb_acc]\n",
    "})\n",
    "\n",
    "# Display the results\n",
    "results_df\n"
   ]
  },
  {
   "cell_type": "code",
   "execution_count": 210,
   "id": "33c3bf2b-cc82-499f-94bf-3e3df5a0a12b",
   "metadata": {},
   "outputs": [
    {
     "data": {
      "image/png": "[encoded data removed]",
      "text/plain": [
       "<Figure size 1000x600 with 1 Axes>"
      ]
     },
     "metadata": {},
     "output_type": "display_data"
    }
   ],
   "source": [
    "import matplotlib.pyplot as plt\n",
    "\n",
    "# Plot the comparison of model accuracies\n",
    "plt.figure(figsize=(10, 6))\n",
    "plt.bar(results_df[\"Model\"], results_df[\"Accuracy\"], color='skyblue')\n",
    "plt.xlabel(\"Model\")\n",
    "plt.ylabel(\"Accuracy\")\n",
    "plt.title(\"Comparison of Model Accuracies\")\n",
    "plt.ylim(0, 1)  # Accuracy ranges from 0 to 1\n",
    "plt.show()\n"
   ]
  },
  {
   "cell_type": "code",
   "execution_count": null,
   "id": "8f544bf8-4376-46b8-8760-415e81e9a0cb",
   "metadata": {},
   "outputs": [],
   "source": []
  }
 ],
 "metadata": {
  "kernelspec": {
   "display_name": "Python 3 (ipykernel)",
   "language": "python",
   "name": "python3"
  },
  "language_info": {
   "codemirror_mode": {
    "name": "ipython",
    "version": 3
   },
   "file_extension": ".py",
   "mimetype": "text/x-python",
   "name": "python",
   "nbconvert_exporter": "python",
   "pygments_lexer": "ipython3",
   "version": "3.12.7"
  }
 },
 "nbformat": 4,
 "nbformat_minor": 5
}
