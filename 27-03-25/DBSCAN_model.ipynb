{
 "cells": [
  {
   "cell_type": "code",
   "execution_count": 2,
   "id": "67c01d6a-b660-4f56-ab3b-32d3f9a35bfb",
   "metadata": {},
   "outputs": [
    {
     "name": "stdout",
     "output_type": "stream",
     "text": [
      "[ 0  0  0  1  1 -1]\n"
     ]
    }
   ],
   "source": [
    "from sklearn.cluster import DBSCAN\n",
    "import numpy as np\n",
    "\n",
    "#sample data\n",
    "X=np.array([[1,2],[2,2],[2,3],[8,7],[8,8],[25,80]])\n",
    "\n",
    "#DBSCAN model\n",
    "dbscan=DBSCAN(eps=3,min_samples=2)\n",
    "\n",
    "#Fit model\n",
    "dbscan.fit(X)\n",
    "\n",
    "#cluster labels\n",
    "labels=dbscan.labels_\n",
    "print(labels)"
   ]
  },
  {
   "cell_type": "code",
   "execution_count": null,
   "id": "e86f3eeb-d2ba-4574-af53-5ed1eff8d156",
   "metadata": {},
   "outputs": [],
   "source": []
  }
 ],
 "metadata": {
  "kernelspec": {
   "display_name": "Python 3 (ipykernel)",
   "language": "python",
   "name": "python3"
  },
  "language_info": {
   "codemirror_mode": {
    "name": "ipython",
    "version": 3
   },
   "file_extension": ".py",
   "mimetype": "text/x-python",
   "name": "python",
   "nbconvert_exporter": "python",
   "pygments_lexer": "ipython3",
   "version": "3.12.7"
  }
 },
 "nbformat": 4,
 "nbformat_minor": 5
}
