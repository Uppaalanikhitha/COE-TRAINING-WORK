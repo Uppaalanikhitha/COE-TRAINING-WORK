{
 "cells": [
  {
   "cell_type": "code",
   "execution_count": 5,
   "id": "6524db9c-717f-41ef-8b06-2754a389ca2d",
   "metadata": {},
   "outputs": [],
   "source": [
    "import pandas as pd\n",
    "import numpy as np\n",
    "import matplotlib.pyplot as plt\n",
    "import seaborn as sns\n",
    "from sklearn.model_selection import train_test_split\n",
    "from sklearn.preprocessing import StandardScaler,LabelEncoder\n",
    "from sklearn.svm import SVC\n",
    "from sklearn.metrics import accuracy_score,confusion_matrix,classification_report\n",
    "from sklearn.decomposition import PCA"
   ]
  },
  {
   "cell_type": "markdown",
   "id": "29412fc6-371a-44a8-8903-6973b3059535",
   "metadata": {},
   "source": [
    "***Load and Explore dataset***"
   ]
  },
  {
   "cell_type": "code",
   "execution_count": 10,
   "id": "48de46d7-6cc4-4909-aae7-9f6f745b104b",
   "metadata": {},
   "outputs": [],
   "source": [
    "df=pd.read_csv(r\"C:\\Users\\CVR\\Downloads\\heart.csv\")"
   ]
  },
  {
   "cell_type": "markdown",
   "id": "d7a310d2-e093-4412-9290-2b8bd921aca4",
   "metadata": {},
   "source": [
    "***Preprocess the Data***"
   ]
  },
  {
   "cell_type": "code",
   "execution_count": 14,
   "id": "28ddf6e2-d3de-4852-8350-bf2ac9ae56cb",
   "metadata": {},
   "outputs": [],
   "source": [
    "#handle missing values\n",
    "df.dropna(inplace=True)\n",
    "\n",
    "#encode categorical variables\n",
    "label_encoders={}\n",
    "for col in df.select_dtypes(include=['object']).columns:\n",
    "    le=LabelEncoders()\n",
    "    df[col]=le.fit_transform(df[col])\n",
    "    label_encoders[col]= le"
   ]
  },
  {
   "cell_type": "markdown",
   "id": "e5f8ba24-fe5e-459b-a52e-930a6cc27c83",
   "metadata": {},
   "source": [
    "**Split Dataset into Training and Testing Sets**"
   ]
  },
  {
   "cell_type": "code",
   "execution_count": 20,
   "id": "337ce649-813a-42a6-98c0-4f328dc21163",
   "metadata": {},
   "outputs": [],
   "source": [
    "#Define features and target variables\n",
    "X=df.drop(columns=['target'])\n",
    "y=df['target']\n",
    "\n",
    "#split dataset into training and testing sets\n",
    "X_train,X_test,y_train,y_test=train_test_split(X,y,test_size=0.2,random_state=42)"
   ]
  },
  {
   "cell_type": "markdown",
   "id": "5f248f66-a48a-42aa-97df-1fe4f225a246",
   "metadata": {},
   "source": [
    "**Standardize Features**"
   ]
  },
  {
   "cell_type": "code",
   "execution_count": 23,
   "id": "01e05fa8-4c1d-40d1-8621-06cbf9150a8a",
   "metadata": {},
   "outputs": [],
   "source": [
    "scaler=StandardScaler()\n",
    "X_train=scaler.fit_transform(X_train)\n",
    "X_test=scaler.transform(X_test)"
   ]
  },
  {
   "cell_type": "markdown",
   "id": "3667a5fe-c7e2-4019-ad6b-38b3f3cb7495",
   "metadata": {},
   "source": [
    "**Train and Evaluates SVM Models**"
   ]
  },
  {
   "cell_type": "code",
   "execution_count": 30,
   "id": "5db10a8e-d8d0-4d44-aef7-3e019ad47ca2",
   "metadata": {},
   "outputs": [],
   "source": [
    "#train SVM with linear kernel\n",
    "svm_linear=SVC(kernel='linear',C=1)\n",
    "svm_linear.fit(X_train,y_train)\n",
    "y_pred_linear=svm_linear.predict(X_test)\n",
    "\n",
    "#train SVM with polynomial kernel\n",
    "svm_poly=SVC(kernel='poly',degree=3,C=1)\n",
    "svm_poly.fit(X_train,y_train)\n",
    "y_pred_poly=svm_poly.predict(X_test)\n",
    "\n",
    "#train SVM with RBF Kernel\n",
    "svm_rbf=SVC(kernel='rbf',C=1,gamma='scale')\n",
    "svm_rbf.fit(X_train,y_train)\n",
    "y_pred_rbf=svm_rbf.predict(X_test)\n"
   ]
  },
  {
   "cell_type": "markdown",
   "id": "5915a340-d53d-489c-be9b-d3a97f31acf6",
   "metadata": {},
   "source": [
    "**Evaluate Model Performance**\n"
   ]
  },
  {
   "cell_type": "code",
   "execution_count": 33,
   "id": "0c2f1a15-c2b5-4e04-86fc-c37103256731",
   "metadata": {},
   "outputs": [
    {
     "name": "stdout",
     "output_type": "stream",
     "text": [
      "Linear Kernel Acuuracy:0.81\n",
      "Polynomial Kernel Accuracy:0.91\n",
      "RBF  Kernel Accuracy:0.89\n"
     ]
    }
   ],
   "source": [
    "#print accuracy scores\n",
    "print(f'Linear Kernel Acuuracy:{accuracy_score(y_test,y_pred_linear):.2f}')\n",
    "print(f'Polynomial Kernel Accuracy:{accuracy_score(y_test,y_pred_poly):.2f}')\n",
    "print(f'RBF  Kernel Accuracy:{accuracy_score(y_test,y_pred_rbf):.2f}')"
   ]
  },
  {
   "cell_type": "code",
   "execution_count": null,
   "id": "cc9adcc3-2c3e-4f70-b984-dddd6e9946ae",
   "metadata": {},
   "outputs": [],
   "source": []
  }
 ],
 "metadata": {
  "kernelspec": {
   "display_name": "Python 3 (ipykernel)",
   "language": "python",
   "name": "python3"
  },
  "language_info": {
   "codemirror_mode": {
    "name": "ipython",
    "version": 3
   },
   "file_extension": ".py",
   "mimetype": "text/x-python",
   "name": "python",
   "nbconvert_exporter": "python",
   "pygments_lexer": "ipython3",
   "version": "3.12.7"
  }
 },
 "nbformat": 4,
 "nbformat_minor": 5
}
