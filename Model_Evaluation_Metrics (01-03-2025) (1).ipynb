{
 "cells": [
  {
   "cell_type": "markdown",
   "id": "a7c43716",
   "metadata": {},
   "source": [
    "**Simple Linear Regression**\n"
   ]
  },
  {
   "cell_type": "code",
   "execution_count": 2,
   "id": "497aff42",
   "metadata": {},
   "outputs": [],
   "source": [
    "# Step 1: Import necessary libraries\n",
    "\n",
    "import numpy as np  # For handling numerical data\n",
    "\n",
    "import matplotlib.pyplot as plt  # For data visualization\n",
    "\n",
    "from sklearn.linear_model import LinearRegression  # For building the regression model\n",
    "\n",
    "from sklearn.metrics import mean_squared_error, mean_absolute_error, r2_score  # For evaluating the model\n",
    "\n",
    "import statsmodels.api as sm  # For OLS (Ordinary Least Squares) Regression\n",
    "\n",
    "from sklearn.preprocessing import PolynomialFeatures  # For polynomial transformation\n",
    " "
   ]
  },
  {
   "cell_type": "code",
   "execution_count": 3,
   "id": "8098fe8e",
   "metadata": {},
   "outputs": [],
   "source": [
    "# Step 2: Define the dataset (Experience in years and corresponding Salary in $1000s)\n",
    "\n",
    "np.random.seed(42)  # Ensuring reproducibility of random noise\n",
    " \n",
    "X = np.array([1, 2, 3, 4, 5, 6, 7, 8, 9, 10]).reshape(-1, 1)  # Independent variable (Experience)\n",
    "\n",
    "true_salaries = np.array([30, 35, 40, 45, 50, 55, 60, 65, 70, 75])  # True salary values\n",
    " "
   ]
  },
  {
   "cell_type": "code",
   "execution_count": 4,
   "id": "796a11f6",
   "metadata": {},
   "outputs": [],
   "source": [
    "# Adding some random noise to salaries to reduce accuracy\n",
    "noise = np.random.normal(0, 5, size=true_salaries.shape)  # Adding Gaussian noise (mean=0, std=5)\n",
    "Y = true_salaries + noise  # Final dependent variable with noise"
   ]
  },
  {
   "cell_type": "code",
   "execution_count": 5,
   "id": "1fa2b702",
   "metadata": {},
   "outputs": [],
   "source": [
    "# Step 3: Convert data into Polynomial Features (degree 2 for quadratic relationship)\n",
    "degree = 2  # You can change this for higher degrees\n",
    "poly = PolynomialFeatures(degree=degree)  # Creating polynomial feature transformer\n",
    "X_poly = poly.fit_transform(X)  # Transforming X to polynomial features"
   ]
  },
  {
   "cell_type": "code",
   "execution_count": 6,
   "id": "01dd44f9",
   "metadata": {},
   "outputs": [],
   "source": [
    "#Step 3: Create a linear Regression model\n",
    "model = LinearRegression() #Initialize the model"
   ]
  },
  {
   "cell_type": "code",
   "execution_count": 7,
   "id": "d0eb369b",
   "metadata": {},
   "outputs": [
    {
     "data": {
      "text/html": [
       "<style>#sk-container-id-1 {color: black;}#sk-container-id-1 pre{padding: 0;}#sk-container-id-1 div.sk-toggleable {background-color: white;}#sk-container-id-1 label.sk-toggleable__label {cursor: pointer;display: block;width: 100%;margin-bottom: 0;padding: 0.3em;box-sizing: border-box;text-align: center;}#sk-container-id-1 label.sk-toggleable__label-arrow:before {content: \"▸\";float: left;margin-right: 0.25em;color: #696969;}#sk-container-id-1 label.sk-toggleable__label-arrow:hover:before {color: black;}#sk-container-id-1 div.sk-estimator:hover label.sk-toggleable__label-arrow:before {color: black;}#sk-container-id-1 div.sk-toggleable__content {max-height: 0;max-width: 0;overflow: hidden;text-align: left;background-color: #f0f8ff;}#sk-container-id-1 div.sk-toggleable__content pre {margin: 0.2em;color: black;border-radius: 0.25em;background-color: #f0f8ff;}#sk-container-id-1 input.sk-toggleable__control:checked~div.sk-toggleable__content {max-height: 200px;max-width: 100%;overflow: auto;}#sk-container-id-1 input.sk-toggleable__control:checked~label.sk-toggleable__label-arrow:before {content: \"▾\";}#sk-container-id-1 div.sk-estimator input.sk-toggleable__control:checked~label.sk-toggleable__label {background-color: #d4ebff;}#sk-container-id-1 div.sk-label input.sk-toggleable__control:checked~label.sk-toggleable__label {background-color: #d4ebff;}#sk-container-id-1 input.sk-hidden--visually {border: 0;clip: rect(1px 1px 1px 1px);clip: rect(1px, 1px, 1px, 1px);height: 1px;margin: -1px;overflow: hidden;padding: 0;position: absolute;width: 1px;}#sk-container-id-1 div.sk-estimator {font-family: monospace;background-color: #f0f8ff;border: 1px dotted black;border-radius: 0.25em;box-sizing: border-box;margin-bottom: 0.5em;}#sk-container-id-1 div.sk-estimator:hover {background-color: #d4ebff;}#sk-container-id-1 div.sk-parallel-item::after {content: \"\";width: 100%;border-bottom: 1px solid gray;flex-grow: 1;}#sk-container-id-1 div.sk-label:hover label.sk-toggleable__label {background-color: #d4ebff;}#sk-container-id-1 div.sk-serial::before {content: \"\";position: absolute;border-left: 1px solid gray;box-sizing: border-box;top: 0;bottom: 0;left: 50%;z-index: 0;}#sk-container-id-1 div.sk-serial {display: flex;flex-direction: column;align-items: center;background-color: white;padding-right: 0.2em;padding-left: 0.2em;position: relative;}#sk-container-id-1 div.sk-item {position: relative;z-index: 1;}#sk-container-id-1 div.sk-parallel {display: flex;align-items: stretch;justify-content: center;background-color: white;position: relative;}#sk-container-id-1 div.sk-item::before, #sk-container-id-1 div.sk-parallel-item::before {content: \"\";position: absolute;border-left: 1px solid gray;box-sizing: border-box;top: 0;bottom: 0;left: 50%;z-index: -1;}#sk-container-id-1 div.sk-parallel-item {display: flex;flex-direction: column;z-index: 1;position: relative;background-color: white;}#sk-container-id-1 div.sk-parallel-item:first-child::after {align-self: flex-end;width: 50%;}#sk-container-id-1 div.sk-parallel-item:last-child::after {align-self: flex-start;width: 50%;}#sk-container-id-1 div.sk-parallel-item:only-child::after {width: 0;}#sk-container-id-1 div.sk-dashed-wrapped {border: 1px dashed gray;margin: 0 0.4em 0.5em 0.4em;box-sizing: border-box;padding-bottom: 0.4em;background-color: white;}#sk-container-id-1 div.sk-label label {font-family: monospace;font-weight: bold;display: inline-block;line-height: 1.2em;}#sk-container-id-1 div.sk-label-container {text-align: center;}#sk-container-id-1 div.sk-container {/* jupyter's `normalize.less` sets `[hidden] { display: none; }` but bootstrap.min.css set `[hidden] { display: none !important; }` so we also need the `!important` here to be able to override the default hidden behavior on the sphinx rendered scikit-learn.org. See: https://github.com/scikit-learn/scikit-learn/issues/21755 */display: inline-block !important;position: relative;}#sk-container-id-1 div.sk-text-repr-fallback {display: none;}</style><div id=\"sk-container-id-1\" class=\"sk-top-container\"><div class=\"sk-text-repr-fallback\"><pre>LinearRegression()</pre><b>In a Jupyter environment, please rerun this cell to show the HTML representation or trust the notebook. <br />On GitHub, the HTML representation is unable to render, please try loading this page with nbviewer.org.</b></div><div class=\"sk-container\" hidden><div class=\"sk-item\"><div class=\"sk-estimator sk-toggleable\"><input class=\"sk-toggleable__control sk-hidden--visually\" id=\"sk-estimator-id-1\" type=\"checkbox\" checked><label for=\"sk-estimator-id-1\" class=\"sk-toggleable__label sk-toggleable__label-arrow\">LinearRegression</label><div class=\"sk-toggleable__content\"><pre>LinearRegression()</pre></div></div></div></div></div>"
      ],
      "text/plain": [
       "LinearRegression()"
      ]
     },
     "execution_count": 7,
     "metadata": {},
     "output_type": "execute_result"
    }
   ],
   "source": [
    "#Step 4: Train the model using the dataset\n",
    "model.fit(X,Y)#The model learns the best-fit line by minimizing the error"
   ]
  },
  {
   "cell_type": "code",
   "execution_count": 8,
   "id": "4123424d",
   "metadata": {},
   "outputs": [
    {
     "name": "stdout",
     "output_type": "stream",
     "text": [
      "Intercept: 27.430065779800536\n",
      "Coefficients: 4.965498141580591\n"
     ]
    }
   ],
   "source": [
    "#Step 5: finding intercept(c) and coefficient(slope-m) for the given data set\n",
    "c = model.intercept_#intercept(where the line crosses the Y-axis) - c\n",
    "m = model.coef_[0]#coefficient (slope) of the regression line - m\n",
    "\n",
    "print(f\"Intercept: {c}\")\n",
    "print(f\"Coefficients: {m}\")"
   ]
  },
  {
   "cell_type": "code",
   "execution_count": 9,
   "id": "b9753255",
   "metadata": {},
   "outputs": [
    {
     "name": "stdout",
     "output_type": "stream",
     "text": [
      "Equation of the line: Y =  4.97X+ 27.43\n"
     ]
    }
   ],
   "source": [
    "#Step 6: Display the equation of the line\n",
    "print(f\"Equation of the line: Y = {m: .2f}X+{c: .2f}\")\n",
    "#get an error if use .2f directly, without mentioning as model.coef_[0] in the above code of line"
   ]
  },
  {
   "cell_type": "code",
   "execution_count": 10,
   "id": "b379013c",
   "metadata": {},
   "outputs": [],
   "source": [
    "#Step 7: Predict Values using the model\n",
    "Y_pred = model.predict(X) #Predict salaries for the given experience values"
   ]
  },
  {
   "cell_type": "markdown",
   "id": "1ec1a6d7",
   "metadata": {},
   "source": [
    "**Mean_Square_Error(MSE)**"
   ]
  },
  {
   "cell_type": "code",
   "execution_count": 11,
   "id": "95f4f56b",
   "metadata": {},
   "outputs": [
    {
     "name": "stdout",
     "output_type": "stream",
     "text": [
      "Mean Squared Error(MSE): 11.75\n"
     ]
    }
   ],
   "source": [
    "#1.Mean Squared Error(MSE) - Measures average squared difference between actual and predicted values\n",
    "mse = mean_squared_error(Y,Y_pred)\n",
    "print(f\"Mean Squared Error(MSE): {mse:.2f}\")"
   ]
  },
  {
   "cell_type": "markdown",
   "id": "9fcf6ba5",
   "metadata": {},
   "source": [
    "**Mean_Absolute_Error(MAE)**"
   ]
  },
  {
   "cell_type": "code",
   "execution_count": 12,
   "id": "32c05b95",
   "metadata": {},
   "outputs": [
    {
     "name": "stdout",
     "output_type": "stream",
     "text": [
      "Mean Absolute Error(MAE): 2.87\n"
     ]
    }
   ],
   "source": [
    "#2. Mean Absolute Error (MAE) - Measures average absolute difference between actual and predicted values\n",
    "mae = mean_absolute_error(Y,Y_pred)\n",
    "print(f\"Mean Absolute Error(MAE): {mae:.2f}\")"
   ]
  },
  {
   "cell_type": "markdown",
   "id": "b1bf0001",
   "metadata": {},
   "source": [
    "***Root Mean Squared Error (RMSE)***"
   ]
  },
  {
   "cell_type": "code",
   "execution_count": 13,
   "id": "7c65df9e",
   "metadata": {},
   "outputs": [
    {
     "name": "stdout",
     "output_type": "stream",
     "text": [
      "Root Mean Squared Error(RMSE): 3.43\n"
     ]
    }
   ],
   "source": [
    "#3. Root Mean Squared Error (RMSE) - Measures standard derivation of residuals (errors)\n",
    "rmse = np.sqrt(mse)\n",
    "print(f\"Root Mean Squared Error(RMSE): {rmse:.2f}\")"
   ]
  },
  {
   "cell_type": "markdown",
   "id": "5f0100e2",
   "metadata": {},
   "source": [
    "**R-Squared**"
   ]
  },
  {
   "cell_type": "code",
   "execution_count": 14,
   "id": "46e82f64",
   "metadata": {},
   "outputs": [
    {
     "name": "stdout",
     "output_type": "stream",
     "text": [
      "R-Squared (R^2): 0.95\n"
     ]
    }
   ],
   "source": [
    "#4. R-squared(R^2) - Represents how well the model fits the data(0 to 1,where 1 is best)\n",
    "r2 = r2_score(Y,Y_pred)\n",
    "print(f\"R-Squared (R^2): {r2:.2f}\")"
   ]
  },
  {
   "cell_type": "markdown",
   "id": "f04be401",
   "metadata": {},
   "source": [
    "***Adjusted R-squared(R^2_adj)***"
   ]
  },
  {
   "cell_type": "code",
   "execution_count": 15,
   "id": "388b8f0a",
   "metadata": {},
   "outputs": [
    {
     "name": "stdout",
     "output_type": "stream",
     "text": [
      "Adjusted R-squared: 0.94\n"
     ]
    }
   ],
   "source": [
    "#5. Adjusted R-squared(R^2_adj) - Adjusted for the number of predictors, better for multiple regression\n",
    "n = len(Y)#Number of observations\n",
    "p = 1 #Number of independent variables(Experience)\n",
    "adj_r2 = 1-((1-r2) * (n-1)/(n-p-1))\n",
    "print(f\"Adjusted R-squared: {adj_r2:.2f}\")"
   ]
  },
  {
   "cell_type": "code",
   "execution_count": 16,
   "id": "ca62b928",
   "metadata": {},
   "outputs": [
    {
     "name": "stdout",
     "output_type": "stream",
     "text": [
      "\n",
      "OLS Regression Summary:\n",
      "\n",
      "                            OLS Regression Results                            \n",
      "==============================================================================\n",
      "Dep. Variable:                      y   R-squared:                       0.947\n",
      "Model:                            OLS   Adj. R-squared:                  0.931\n",
      "Method:                 Least Squares   F-statistic:                     62.13\n",
      "Date:                Sat, 01 Mar 2025   Prob (F-statistic):           3.50e-05\n",
      "Time:                        13:38:18   Log-Likelihood:                -26.390\n",
      "No. Observations:                  10   AIC:                             58.78\n",
      "Df Residuals:                       7   BIC:                             59.69\n",
      "Df Model:                           2                                         \n",
      "Covariance Type:            nonrobust                                         \n",
      "==============================================================================\n",
      "                 coef    std err          t      P>|t|      [0.025      0.975]\n",
      "------------------------------------------------------------------------------\n",
      "const         25.8348      4.762      5.425      0.001      14.575      37.095\n",
      "x1             5.7631      1.989      2.898      0.023       1.060      10.466\n",
      "x2            -0.0725      0.176     -0.412      0.693      -0.489       0.344\n",
      "==============================================================================\n",
      "Omnibus:                        1.453   Durbin-Watson:                   2.499\n",
      "Prob(Omnibus):                  0.484   Jarque-Bera (JB):                0.743\n",
      "Skew:                           0.130   Prob(JB):                        0.690\n",
      "Kurtosis:                       1.690   Cond. No.                         202.\n",
      "==============================================================================\n",
      "\n",
      "Notes:\n",
      "[1] Standard Errors assume that the covariance matrix of the errors is correctly specified.\n"
     ]
    },
    {
     "name": "stderr",
     "output_type": "stream",
     "text": [
      "C:\\Users\\CVR\\anaconda3\\Lib\\site-packages\\scipy\\stats\\_stats_py.py:1806: UserWarning: kurtosistest only valid for n>=20 ... continuing anyway, n=10\n",
      "  warnings.warn(\"kurtosistest only valid for n>=20 ... continuing \"\n"
     ]
    }
   ],
   "source": [
    "# 6. Ordinary Least Squares (OLS) Summary - Gives detailed statistical summary of the regression\n",
    "X_ols = sm.add_constant(X_poly)  # Add intercept term for OLS regression\n",
    "ols_model = sm.OLS(Y, X_ols).fit()  # Fit OLS model\n",
    "print(\"\\nOLS Regression Summary:\\n\")\n",
    "print(ols_model.summary())  # Display detailed statistical summary"
   ]
  },
  {
   "cell_type": "markdown",
   "id": "a401fa9d",
   "metadata": {},
   "source": [
    "**Step 8: Visualization Part**"
   ]
  },
  {
   "cell_type": "code",
   "execution_count": 17,
   "id": "9aad1b5b",
   "metadata": {},
   "outputs": [
    {
     "data": {
      "text/plain": [
       "<matplotlib.collections.PathCollection at 0x1cf458a0b10>"
      ]
     },
     "execution_count": 17,
     "metadata": {},
     "output_type": "execute_result"
    },
    {
     "data": {
      "image/png": "[encoded data removed]",
      "text/plain": [
       "<Figure size 640x480 with 1 Axes>"
      ]
     },
     "metadata": {},
     "output_type": "display_data"
    }
   ],
   "source": [
    "#Step 8: Plot the actual data points\n",
    "plt.scatter(X,Y,color='blue',label = 'Actual Data') #Scatter plot of actual values"
   ]
  },
  {
   "cell_type": "code",
   "execution_count": 20,
   "id": "f682cf33",
   "metadata": {},
   "outputs": [
    {
     "data": {
      "text/plain": [
       "[<matplotlib.lines.Line2D at 0x1cf476ee3d0>]"
      ]
     },
     "execution_count": 20,
     "metadata": {},
     "output_type": "execute_result"
    },
    {
     "data": {
      "image/png": "[encoded data removed]",
      "text/plain": [
       "<Figure size 640x480 with 1 Axes>"
      ]
     },
     "metadata": {},
     "output_type": "display_data"
    }
   ],
   "source": [
    "#Step 9: Plot the Regression line(Best fit line)\n",
    "plt.plot(X,Y_pred, color = 'lightblue',label='Best Fit Line')#Regression line"
   ]
  },
  {
   "cell_type": "code",
   "execution_count": 19,
   "id": "93ce709e",
   "metadata": {},
   "outputs": [
    {
     "data": {
      "image/png": "[encoded data removed]",
      "text/plain": [
       "<Figure size 640x480 with 1 Axes>"
      ]
     },
     "metadata": {},
     "output_type": "display_data"
    }
   ],
   "source": [
    "#Plot the actual data points\n",
    "plt.scatter(X,Y,color='blue',label = 'Actual Data') #Scatter plot of actual values\n",
    "\n",
    "#Plot the Regression line(Best fit line)\n",
    "plt.plot(X,Y_pred, color = 'lightblue',label='Best Fit Line')#Regression line\n",
    "\n",
    "#Add labels and legend\n",
    "plt.xlabel(\"Experience(Years)\")#label for X-axis\n",
    "plt.ylabel(\"Salary(in $1000s)\")#label for Y-axis\n",
    "plt.title('Simple Linear Regression - Experience vs. Salary')#Title of the plot\n",
    "plt.legend()#Show legend\n",
    "\n",
    "# Display the graph\n",
    "plt.show() #Show the final plotted graph"
   ]
  },
  {
   "cell_type": "markdown",
   "id": "4960c236",
   "metadata": {},
   "source": [
    "**Step 9: Feature Prediction**"
   ]
  },
  {
   "cell_type": "code",
   "execution_count": 41,
   "id": "fdeafd04",
   "metadata": {},
   "outputs": [
    {
     "name": "stdout",
     "output_type": "stream",
     "text": [
      "\n",
      " Enter years of experience to predict salary (or -1 to exit): 1\n",
      "Predicted Salary for 1.0 years of experience: $32.40K\n",
      "\n",
      " Enter years of experience to predict salary (or -1 to exit): 0\n",
      "Predicted Salary for 0.0 years of experience: $27.43K\n",
      "\n",
      " Enter years of experience to predict salary (or -1 to exit): -1\n"
     ]
    }
   ],
   "source": [
    "#User can input experience, and the model will predict salary\n",
    "while True:\n",
    "    try:\n",
    "        exp = float(input(\"\\n Enter years of experience to predict salary (or -1 to exit): \"))\n",
    "        if exp == -1:\n",
    "            break #Exit the loop\n",
    "        predicated_salary = model.predict(np.array([[exp]]))[0]\n",
    "        print(f\"Predicted Salary for {exp} years of experience: ${predicated_salary:.2f}K\")\n",
    "    \n",
    "    except ValueError:\n",
    "        print(\"Please enter a valid number\")"
   ]
  },
  {
   "cell_type": "code",
   "execution_count": null,
   "id": "20438600",
   "metadata": {},
   "outputs": [],
   "source": []
  }
 ],
 "metadata": {
  "kernelspec": {
   "display_name": "Python 3 (ipykernel)",
   "language": "python",
   "name": "python3"
  },
  "language_info": {
   "codemirror_mode": {
    "name": "ipython",
    "version": 3
   },
   "file_extension": ".py",
   "mimetype": "text/x-python",
   "name": "python",
   "nbconvert_exporter": "python",
   "pygments_lexer": "ipython3",
   "version": "3.11.5"
  }
 },
 "nbformat": 4,
 "nbformat_minor": 5
}
